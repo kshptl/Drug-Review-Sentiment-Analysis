{
 "cells": [
  {
   "cell_type": "code",
   "execution_count": 1,
   "metadata": {
    "colab": {
     "base_uri": "https://localhost:8080/",
     "height": 51
    },
    "colab_type": "code",
    "id": "ueVtiGQqeVk4",
    "outputId": "593ea4fc-171d-49eb-a641-a978d89352bc"
   },
   "outputs": [],
   "source": [
    "%reload_ext autoreload\n",
    "%autoreload 2\n",
    "import pandas as pd\n",
    "import numpy as np\n",
    "import seaborn as sns\n",
    "%matplotlib inline"
   ]
  },
  {
   "cell_type": "code",
   "execution_count": 2,
   "metadata": {
    "colab": {},
    "colab_type": "code",
    "id": "YPnkHADveVk-"
   },
   "outputs": [],
   "source": [
    "# read drugs csv\n",
    "drugs = pd.concat([pd.read_csv(\"train.tsv\",delimiter=\"\\t\"), pd.read_csv(\"test.tsv\",delimiter=\"\\t\")])"
   ]
  },
  {
   "cell_type": "code",
   "execution_count": 3,
   "metadata": {
    "colab": {
     "base_uri": "https://localhost:8080/",
     "height": 204
    },
    "colab_type": "code",
    "id": "9QYvKPQ9eVlB",
    "outputId": "e2d85a54-10c8-4da2-bc6b-7425560781f6"
   },
   "outputs": [
    {
     "data": {
      "text/html": [
       "<div>\n",
       "<style scoped>\n",
       "    .dataframe tbody tr th:only-of-type {\n",
       "        vertical-align: middle;\n",
       "    }\n",
       "\n",
       "    .dataframe tbody tr th {\n",
       "        vertical-align: top;\n",
       "    }\n",
       "\n",
       "    .dataframe thead th {\n",
       "        text-align: right;\n",
       "    }\n",
       "</style>\n",
       "<table border=\"1\" class=\"dataframe\">\n",
       "  <thead>\n",
       "    <tr style=\"text-align: right;\">\n",
       "      <th></th>\n",
       "      <th>Unnamed: 0</th>\n",
       "      <th>drugName</th>\n",
       "      <th>condition</th>\n",
       "      <th>review</th>\n",
       "      <th>rating</th>\n",
       "      <th>date</th>\n",
       "      <th>usefulCount</th>\n",
       "    </tr>\n",
       "  </thead>\n",
       "  <tbody>\n",
       "    <tr>\n",
       "      <th>0</th>\n",
       "      <td>206461</td>\n",
       "      <td>Valsartan</td>\n",
       "      <td>Left Ventricular Dysfunction</td>\n",
       "      <td>\"It has no side effect, I take it in combinati...</td>\n",
       "      <td>9.0</td>\n",
       "      <td>May 20, 2012</td>\n",
       "      <td>27</td>\n",
       "    </tr>\n",
       "    <tr>\n",
       "      <th>1</th>\n",
       "      <td>95260</td>\n",
       "      <td>Guanfacine</td>\n",
       "      <td>ADHD</td>\n",
       "      <td>\"My son is halfway through his fourth week of ...</td>\n",
       "      <td>8.0</td>\n",
       "      <td>April 27, 2010</td>\n",
       "      <td>192</td>\n",
       "    </tr>\n",
       "    <tr>\n",
       "      <th>2</th>\n",
       "      <td>92703</td>\n",
       "      <td>Lybrel</td>\n",
       "      <td>Birth Control</td>\n",
       "      <td>\"I used to take another oral contraceptive, wh...</td>\n",
       "      <td>5.0</td>\n",
       "      <td>December 14, 2009</td>\n",
       "      <td>17</td>\n",
       "    </tr>\n",
       "    <tr>\n",
       "      <th>3</th>\n",
       "      <td>138000</td>\n",
       "      <td>Ortho Evra</td>\n",
       "      <td>Birth Control</td>\n",
       "      <td>\"This is my first time using any form of birth...</td>\n",
       "      <td>8.0</td>\n",
       "      <td>November 3, 2015</td>\n",
       "      <td>10</td>\n",
       "    </tr>\n",
       "    <tr>\n",
       "      <th>4</th>\n",
       "      <td>35696</td>\n",
       "      <td>Buprenorphine / naloxone</td>\n",
       "      <td>Opiate Dependence</td>\n",
       "      <td>\"Suboxone has completely turned my life around...</td>\n",
       "      <td>9.0</td>\n",
       "      <td>November 27, 2016</td>\n",
       "      <td>37</td>\n",
       "    </tr>\n",
       "  </tbody>\n",
       "</table>\n",
       "</div>"
      ],
      "text/plain": [
       "   Unnamed: 0                  drugName                     condition  \\\n",
       "0      206461                 Valsartan  Left Ventricular Dysfunction   \n",
       "1       95260                Guanfacine                          ADHD   \n",
       "2       92703                    Lybrel                 Birth Control   \n",
       "3      138000                Ortho Evra                 Birth Control   \n",
       "4       35696  Buprenorphine / naloxone             Opiate Dependence   \n",
       "\n",
       "                                              review  rating  \\\n",
       "0  \"It has no side effect, I take it in combinati...     9.0   \n",
       "1  \"My son is halfway through his fourth week of ...     8.0   \n",
       "2  \"I used to take another oral contraceptive, wh...     5.0   \n",
       "3  \"This is my first time using any form of birth...     8.0   \n",
       "4  \"Suboxone has completely turned my life around...     9.0   \n",
       "\n",
       "                date  usefulCount  \n",
       "0       May 20, 2012           27  \n",
       "1     April 27, 2010          192  \n",
       "2  December 14, 2009           17  \n",
       "3   November 3, 2015           10  \n",
       "4  November 27, 2016           37  "
      ]
     },
     "execution_count": 3,
     "metadata": {},
     "output_type": "execute_result"
    }
   ],
   "source": [
    "drugs.head()"
   ]
  },
  {
   "cell_type": "code",
   "execution_count": 4,
   "metadata": {
    "colab": {},
    "colab_type": "code",
    "id": "FcwLGyVVeVlG"
   },
   "outputs": [],
   "source": [
    "# change first column name to \"id\"\n",
    "col = list(drugs.columns)\n",
    "col[0] = \"id\"\n",
    "drugs.columns = col"
   ]
  },
  {
   "cell_type": "code",
   "execution_count": 5,
   "metadata": {
    "colab": {
     "base_uri": "https://localhost:8080/",
     "height": 204
    },
    "colab_type": "code",
    "id": "kDGnMhuZeVlL",
    "outputId": "21ce0141-cd12-4c7b-efb9-91f13b01ea8d"
   },
   "outputs": [
    {
     "data": {
      "text/html": [
       "<div>\n",
       "<style scoped>\n",
       "    .dataframe tbody tr th:only-of-type {\n",
       "        vertical-align: middle;\n",
       "    }\n",
       "\n",
       "    .dataframe tbody tr th {\n",
       "        vertical-align: top;\n",
       "    }\n",
       "\n",
       "    .dataframe thead th {\n",
       "        text-align: right;\n",
       "    }\n",
       "</style>\n",
       "<table border=\"1\" class=\"dataframe\">\n",
       "  <thead>\n",
       "    <tr style=\"text-align: right;\">\n",
       "      <th></th>\n",
       "      <th>id</th>\n",
       "      <th>drugName</th>\n",
       "      <th>condition</th>\n",
       "      <th>review</th>\n",
       "      <th>rating</th>\n",
       "      <th>date</th>\n",
       "      <th>usefulCount</th>\n",
       "    </tr>\n",
       "  </thead>\n",
       "  <tbody>\n",
       "    <tr>\n",
       "      <th>0</th>\n",
       "      <td>206461</td>\n",
       "      <td>Valsartan</td>\n",
       "      <td>Left Ventricular Dysfunction</td>\n",
       "      <td>\"It has no side effect, I take it in combinati...</td>\n",
       "      <td>9.0</td>\n",
       "      <td>May 20, 2012</td>\n",
       "      <td>27</td>\n",
       "    </tr>\n",
       "    <tr>\n",
       "      <th>1</th>\n",
       "      <td>95260</td>\n",
       "      <td>Guanfacine</td>\n",
       "      <td>ADHD</td>\n",
       "      <td>\"My son is halfway through his fourth week of ...</td>\n",
       "      <td>8.0</td>\n",
       "      <td>April 27, 2010</td>\n",
       "      <td>192</td>\n",
       "    </tr>\n",
       "    <tr>\n",
       "      <th>2</th>\n",
       "      <td>92703</td>\n",
       "      <td>Lybrel</td>\n",
       "      <td>Birth Control</td>\n",
       "      <td>\"I used to take another oral contraceptive, wh...</td>\n",
       "      <td>5.0</td>\n",
       "      <td>December 14, 2009</td>\n",
       "      <td>17</td>\n",
       "    </tr>\n",
       "    <tr>\n",
       "      <th>3</th>\n",
       "      <td>138000</td>\n",
       "      <td>Ortho Evra</td>\n",
       "      <td>Birth Control</td>\n",
       "      <td>\"This is my first time using any form of birth...</td>\n",
       "      <td>8.0</td>\n",
       "      <td>November 3, 2015</td>\n",
       "      <td>10</td>\n",
       "    </tr>\n",
       "    <tr>\n",
       "      <th>4</th>\n",
       "      <td>35696</td>\n",
       "      <td>Buprenorphine / naloxone</td>\n",
       "      <td>Opiate Dependence</td>\n",
       "      <td>\"Suboxone has completely turned my life around...</td>\n",
       "      <td>9.0</td>\n",
       "      <td>November 27, 2016</td>\n",
       "      <td>37</td>\n",
       "    </tr>\n",
       "  </tbody>\n",
       "</table>\n",
       "</div>"
      ],
      "text/plain": [
       "       id                  drugName                     condition  \\\n",
       "0  206461                 Valsartan  Left Ventricular Dysfunction   \n",
       "1   95260                Guanfacine                          ADHD   \n",
       "2   92703                    Lybrel                 Birth Control   \n",
       "3  138000                Ortho Evra                 Birth Control   \n",
       "4   35696  Buprenorphine / naloxone             Opiate Dependence   \n",
       "\n",
       "                                              review  rating  \\\n",
       "0  \"It has no side effect, I take it in combinati...     9.0   \n",
       "1  \"My son is halfway through his fourth week of ...     8.0   \n",
       "2  \"I used to take another oral contraceptive, wh...     5.0   \n",
       "3  \"This is my first time using any form of birth...     8.0   \n",
       "4  \"Suboxone has completely turned my life around...     9.0   \n",
       "\n",
       "                date  usefulCount  \n",
       "0       May 20, 2012           27  \n",
       "1     April 27, 2010          192  \n",
       "2  December 14, 2009           17  \n",
       "3   November 3, 2015           10  \n",
       "4  November 27, 2016           37  "
      ]
     },
     "execution_count": 5,
     "metadata": {},
     "output_type": "execute_result"
    }
   ],
   "source": [
    "drugs.head()"
   ]
  },
  {
   "cell_type": "code",
   "execution_count": 6,
   "metadata": {
    "colab": {
     "base_uri": "https://localhost:8080/",
     "height": 255
    },
    "colab_type": "code",
    "id": "EP0zNjz3eVlO",
    "outputId": "7b2a065f-223a-4c7f-f523-7a834dedeacb"
   },
   "outputs": [
    {
     "name": "stdout",
     "output_type": "stream",
     "text": [
      "<class 'pandas.core.frame.DataFrame'>\n",
      "Int64Index: 215063 entries, 0 to 53765\n",
      "Data columns (total 7 columns):\n",
      " #   Column       Non-Null Count   Dtype  \n",
      "---  ------       --------------   -----  \n",
      " 0   id           215063 non-null  int64  \n",
      " 1   drugName     215063 non-null  object \n",
      " 2   condition    213869 non-null  object \n",
      " 3   review       215063 non-null  object \n",
      " 4   rating       215063 non-null  float64\n",
      " 5   date         215063 non-null  object \n",
      " 6   usefulCount  215063 non-null  int64  \n",
      "dtypes: float64(1), int64(2), object(4)\n",
      "memory usage: 13.1+ MB\n"
     ]
    }
   ],
   "source": [
    "drugs.info()"
   ]
  },
  {
   "cell_type": "code",
   "execution_count": 7,
   "metadata": {
    "colab": {
     "base_uri": "https://localhost:8080/",
     "height": 297
    },
    "colab_type": "code",
    "id": "X9MqH8lUeVlT",
    "outputId": "feb9c750-2cd1-4756-8a70-5cdfac68c502"
   },
   "outputs": [
    {
     "data": {
      "text/html": [
       "<div>\n",
       "<style scoped>\n",
       "    .dataframe tbody tr th:only-of-type {\n",
       "        vertical-align: middle;\n",
       "    }\n",
       "\n",
       "    .dataframe tbody tr th {\n",
       "        vertical-align: top;\n",
       "    }\n",
       "\n",
       "    .dataframe thead th {\n",
       "        text-align: right;\n",
       "    }\n",
       "</style>\n",
       "<table border=\"1\" class=\"dataframe\">\n",
       "  <thead>\n",
       "    <tr style=\"text-align: right;\">\n",
       "      <th></th>\n",
       "      <th>id</th>\n",
       "      <th>rating</th>\n",
       "      <th>usefulCount</th>\n",
       "    </tr>\n",
       "  </thead>\n",
       "  <tbody>\n",
       "    <tr>\n",
       "      <th>count</th>\n",
       "      <td>215063.000000</td>\n",
       "      <td>215063.000000</td>\n",
       "      <td>215063.000000</td>\n",
       "    </tr>\n",
       "    <tr>\n",
       "      <th>mean</th>\n",
       "      <td>116039.364814</td>\n",
       "      <td>6.990008</td>\n",
       "      <td>28.001004</td>\n",
       "    </tr>\n",
       "    <tr>\n",
       "      <th>std</th>\n",
       "      <td>67007.913366</td>\n",
       "      <td>3.275554</td>\n",
       "      <td>36.346069</td>\n",
       "    </tr>\n",
       "    <tr>\n",
       "      <th>min</th>\n",
       "      <td>0.000000</td>\n",
       "      <td>1.000000</td>\n",
       "      <td>0.000000</td>\n",
       "    </tr>\n",
       "    <tr>\n",
       "      <th>25%</th>\n",
       "      <td>58115.500000</td>\n",
       "      <td>5.000000</td>\n",
       "      <td>6.000000</td>\n",
       "    </tr>\n",
       "    <tr>\n",
       "      <th>50%</th>\n",
       "      <td>115867.000000</td>\n",
       "      <td>8.000000</td>\n",
       "      <td>16.000000</td>\n",
       "    </tr>\n",
       "    <tr>\n",
       "      <th>75%</th>\n",
       "      <td>173963.500000</td>\n",
       "      <td>10.000000</td>\n",
       "      <td>36.000000</td>\n",
       "    </tr>\n",
       "    <tr>\n",
       "      <th>max</th>\n",
       "      <td>232291.000000</td>\n",
       "      <td>10.000000</td>\n",
       "      <td>1291.000000</td>\n",
       "    </tr>\n",
       "  </tbody>\n",
       "</table>\n",
       "</div>"
      ],
      "text/plain": [
       "                  id         rating    usefulCount\n",
       "count  215063.000000  215063.000000  215063.000000\n",
       "mean   116039.364814       6.990008      28.001004\n",
       "std     67007.913366       3.275554      36.346069\n",
       "min         0.000000       1.000000       0.000000\n",
       "25%     58115.500000       5.000000       6.000000\n",
       "50%    115867.000000       8.000000      16.000000\n",
       "75%    173963.500000      10.000000      36.000000\n",
       "max    232291.000000      10.000000    1291.000000"
      ]
     },
     "execution_count": 7,
     "metadata": {},
     "output_type": "execute_result"
    }
   ],
   "source": [
    "# Convert the date column into a \"datetime64\" type\n",
    "drugs[\"date\"] = drugs.date.astype(\"datetime64\")\n",
    "\n",
    "# Let's get a general description of the numerical values in the database.\n",
    "drugs.describe()"
   ]
  },
  {
   "cell_type": "markdown",
   "metadata": {},
   "source": [
    "The description of the \"id\" column is meaningless. The usefulCount is the number of votes the review recieved. The average rating is about 7, showing that there is a skew towards positive ratings."
   ]
  },
  {
   "cell_type": "code",
   "execution_count": 8,
   "metadata": {
    "colab": {
     "base_uri": "https://localhost:8080/",
     "height": 153
    },
    "colab_type": "code",
    "id": "KFP4K2E9eVlY",
    "outputId": "aa6fb276-4748-4aa6-fab7-14278875ad26"
   },
   "outputs": [
    {
     "data": {
      "text/plain": [
       "id                0\n",
       "drugName          0\n",
       "condition      1194\n",
       "review            0\n",
       "rating            0\n",
       "date              0\n",
       "usefulCount       0\n",
       "dtype: int64"
      ]
     },
     "execution_count": 8,
     "metadata": {},
     "output_type": "execute_result"
    }
   ],
   "source": [
    "# Checking for missing data\n",
    "drugs.isna().sum()"
   ]
  },
  {
   "cell_type": "markdown",
   "metadata": {
    "colab": {},
    "colab_type": "code",
    "id": "yZqFH3kFeVld"
   },
   "source": [
    "Looks like there are a number of reviews that don't have an associated condition. This could either mean they did not have a condition or it wasn't recorded.\n",
    "899 missing values in the condition column only makes up less than 1% of the reviews with no listed condition. Therefore, dropping these rows shouldn't pose any issue."
   ]
  },
  {
   "cell_type": "code",
   "execution_count": 9,
   "metadata": {
    "colab": {
     "base_uri": "https://localhost:8080/",
     "height": 51
    },
    "colab_type": "code",
    "id": "1H6QuwekeVlg",
    "outputId": "982dcd5b-c58d-4ef9-bb31-a62b4abd7b54"
   },
   "outputs": [
    {
     "name": "stdout",
     "output_type": "stream",
     "text": [
      "Number of drugs:  3667\n",
      "Number of conditions:  916\n"
     ]
    }
   ],
   "source": [
    "drugs = drugs[drugs.condition.map(type) != float]\n",
    "\n",
    "# Let's look at the drugs reviewed.\n",
    "\n",
    "# Number of unique drugs and conditions\n",
    "print(\"Number of drugs: \", len(drugs.drugName.unique()))\n",
    "print(\"Number of conditions: \", len(drugs.condition.unique()))"
   ]
  },
  {
   "cell_type": "code",
   "execution_count": null,
   "metadata": {
    "colab": {
     "base_uri": "https://localhost:8080/",
     "height": 601
    },
    "colab_type": "code",
    "id": "0D1klnrFeVlk",
    "outputId": "5bdf5289-4680-42d7-f678-ae2a0d787645"
   },
   "outputs": [],
   "source": [
    "# Here is the distribution of top 20 reviewed drugs.\n",
    "drugs.groupby(\"drugName\").count().sort_values(\"review\", ascending=False)[:20].plot(kind=\"bar\", y=\"review\", figsize=(20,5));"
   ]
  },
  {
   "cell_type": "markdown",
   "metadata": {
    "colab": {},
    "colab_type": "code",
    "id": "DkqYZ5JReVln"
   },
   "source": [
    "Many review have multiple associated drugs. We can one-hot-encode the drugs list to get a more accurate distribution of the reviewed drugs."
   ]
  },
  {
   "cell_type": "code",
   "execution_count": null,
   "metadata": {},
   "outputs": [],
   "source": [
    "# Split multiple conditions into their own columns\n",
    "drugs = pd.concat([drugs.drop(\"drugName\", 1), drugs.drugName.str.split(r\"[,/\\\\\\\\]\", expand=True)],1)\n",
    "\n",
    "# get the count of each drugName\n",
    "drugName_counts = pd.concat([drugs[0].value_counts(), drugs[1].value_counts(), drugs[2].value_counts(), drugs[3].value_counts(), drugs[4].value_counts()], 1).sum(axis=1)\n",
    "\n",
    "# plot top 30 reviewed drugs\n",
    "drugName_counts = drugName_counts.sort_values(ascending=False)\n",
    "drugName_counts[:20].plot(kind=\"bar\", figsize=(20,5))"
   ]
  },
  {
   "cell_type": "code",
   "execution_count": 73,
   "metadata": {},
   "outputs": [
    {
     "data": {
      "text/html": [
       "<div>\n",
       "<style scoped>\n",
       "    .dataframe tbody tr th:only-of-type {\n",
       "        vertical-align: middle;\n",
       "    }\n",
       "\n",
       "    .dataframe tbody tr th {\n",
       "        vertical-align: top;\n",
       "    }\n",
       "\n",
       "    .dataframe thead th {\n",
       "        text-align: right;\n",
       "    }\n",
       "</style>\n",
       "<table border=\"1\" class=\"dataframe\">\n",
       "  <thead>\n",
       "    <tr style=\"text-align: right;\">\n",
       "      <th></th>\n",
       "      <th>id</th>\n",
       "      <th>condition</th>\n",
       "      <th>review</th>\n",
       "      <th>rating</th>\n",
       "      <th>date</th>\n",
       "      <th>usefulCount</th>\n",
       "      <th>0</th>\n",
       "      <th>1</th>\n",
       "      <th>2</th>\n",
       "      <th>3</th>\n",
       "      <th>4</th>\n",
       "    </tr>\n",
       "  </thead>\n",
       "  <tbody>\n",
       "    <tr>\n",
       "      <th>76409</th>\n",
       "      <td>180256</td>\n",
       "      <td>Pain</td>\n",
       "      <td>\"Caused severe heartburn!\"</td>\n",
       "      <td>5.0</td>\n",
       "      <td>2017-11-01</td>\n",
       "      <td>0</td>\n",
       "      <td>Diclofenac</td>\n",
       "      <td>None</td>\n",
       "      <td>None</td>\n",
       "      <td>None</td>\n",
       "      <td>None</td>\n",
       "    </tr>\n",
       "    <tr>\n",
       "      <th>24114</th>\n",
       "      <td>113718</td>\n",
       "      <td>Rheumatoid Arthritis</td>\n",
       "      <td>\"Can&amp;#039;t live without it.\"</td>\n",
       "      <td>10.0</td>\n",
       "      <td>2008-04-28</td>\n",
       "      <td>57</td>\n",
       "      <td>Arthrotec</td>\n",
       "      <td>None</td>\n",
       "      <td>None</td>\n",
       "      <td>None</td>\n",
       "      <td>None</td>\n",
       "    </tr>\n",
       "    <tr>\n",
       "      <th>17529</th>\n",
       "      <td>102398</td>\n",
       "      <td>Bipolar Disorde</td>\n",
       "      <td>\"Cannot tolerate restlessness\"</td>\n",
       "      <td>1.0</td>\n",
       "      <td>2017-05-14</td>\n",
       "      <td>0</td>\n",
       "      <td>Aripiprazole</td>\n",
       "      <td>None</td>\n",
       "      <td>None</td>\n",
       "      <td>None</td>\n",
       "      <td>None</td>\n",
       "    </tr>\n",
       "    <tr>\n",
       "      <th>66795</th>\n",
       "      <td>14505</td>\n",
       "      <td>Opiate Dependence</td>\n",
       "      <td>\"It works.\"</td>\n",
       "      <td>10.0</td>\n",
       "      <td>2009-08-14</td>\n",
       "      <td>1</td>\n",
       "      <td>Buprenorphine</td>\n",
       "      <td>naloxone</td>\n",
       "      <td>None</td>\n",
       "      <td>None</td>\n",
       "      <td>None</td>\n",
       "    </tr>\n",
       "    <tr>\n",
       "      <th>33015</th>\n",
       "      <td>30282</td>\n",
       "      <td>Anxiety</td>\n",
       "      <td>\"Works well.\"</td>\n",
       "      <td>10.0</td>\n",
       "      <td>2011-02-20</td>\n",
       "      <td>8</td>\n",
       "      <td>Klonopin</td>\n",
       "      <td>None</td>\n",
       "      <td>None</td>\n",
       "      <td>None</td>\n",
       "      <td>None</td>\n",
       "    </tr>\n",
       "    <tr>\n",
       "      <th>26453</th>\n",
       "      <td>178301</td>\n",
       "      <td>Anxiety</td>\n",
       "      <td>\"DON&amp;quot;T take with Paxil.\"</td>\n",
       "      <td>8.0</td>\n",
       "      <td>2010-01-22</td>\n",
       "      <td>0</td>\n",
       "      <td>Duloxetine</td>\n",
       "      <td>None</td>\n",
       "      <td>None</td>\n",
       "      <td>None</td>\n",
       "      <td>None</td>\n",
       "    </tr>\n",
       "    <tr>\n",
       "      <th>160162</th>\n",
       "      <td>95888</td>\n",
       "      <td>Panic Disorde</td>\n",
       "      <td>\"Changed my whole life.\"</td>\n",
       "      <td>8.0</td>\n",
       "      <td>2013-11-10</td>\n",
       "      <td>51</td>\n",
       "      <td>Sertraline</td>\n",
       "      <td>None</td>\n",
       "      <td>None</td>\n",
       "      <td>None</td>\n",
       "      <td>None</td>\n",
       "    </tr>\n",
       "    <tr>\n",
       "      <th>18060</th>\n",
       "      <td>74914</td>\n",
       "      <td>Seizures</td>\n",
       "      <td>\"It makes me dizzy.\"</td>\n",
       "      <td>7.0</td>\n",
       "      <td>2009-06-11</td>\n",
       "      <td>25</td>\n",
       "      <td>Keppra</td>\n",
       "      <td>None</td>\n",
       "      <td>None</td>\n",
       "      <td>None</td>\n",
       "      <td>None</td>\n",
       "    </tr>\n",
       "    <tr>\n",
       "      <th>19746</th>\n",
       "      <td>221466</td>\n",
       "      <td>Cough</td>\n",
       "      <td>\"Works great, almost immediate.\"</td>\n",
       "      <td>5.0</td>\n",
       "      <td>2008-12-18</td>\n",
       "      <td>6</td>\n",
       "      <td>Dextromethorphan</td>\n",
       "      <td>None</td>\n",
       "      <td>None</td>\n",
       "      <td>None</td>\n",
       "      <td>None</td>\n",
       "    </tr>\n",
       "    <tr>\n",
       "      <th>125843</th>\n",
       "      <td>186551</td>\n",
       "      <td>Depression</td>\n",
       "      <td>\"2 thumbs up!\"</td>\n",
       "      <td>10.0</td>\n",
       "      <td>2010-09-20</td>\n",
       "      <td>3</td>\n",
       "      <td>Desvenlafaxine</td>\n",
       "      <td>None</td>\n",
       "      <td>None</td>\n",
       "      <td>None</td>\n",
       "      <td>None</td>\n",
       "    </tr>\n",
       "  </tbody>\n",
       "</table>\n",
       "</div>"
      ],
      "text/plain": [
       "            id             condition                            review  \\\n",
       "76409   180256                  Pain        \"Caused severe heartburn!\"   \n",
       "24114   113718  Rheumatoid Arthritis     \"Can&#039;t live without it.\"   \n",
       "17529   102398       Bipolar Disorde    \"Cannot tolerate restlessness\"   \n",
       "66795    14505     Opiate Dependence                       \"It works.\"   \n",
       "33015    30282               Anxiety                     \"Works well.\"   \n",
       "26453   178301               Anxiety     \"DON&quot;T take with Paxil.\"   \n",
       "160162   95888         Panic Disorde          \"Changed my whole life.\"   \n",
       "18060    74914              Seizures              \"It makes me dizzy.\"   \n",
       "19746   221466                 Cough  \"Works great, almost immediate.\"   \n",
       "125843  186551            Depression                    \"2 thumbs up!\"   \n",
       "\n",
       "        rating       date  usefulCount                 0          1     2  \\\n",
       "76409      5.0 2017-11-01            0        Diclofenac       None  None   \n",
       "24114     10.0 2008-04-28           57         Arthrotec       None  None   \n",
       "17529      1.0 2017-05-14            0      Aripiprazole       None  None   \n",
       "66795     10.0 2009-08-14            1    Buprenorphine    naloxone  None   \n",
       "33015     10.0 2011-02-20            8          Klonopin       None  None   \n",
       "26453      8.0 2010-01-22            0        Duloxetine       None  None   \n",
       "160162     8.0 2013-11-10           51        Sertraline       None  None   \n",
       "18060      7.0 2009-06-11           25            Keppra       None  None   \n",
       "19746      5.0 2008-12-18            6  Dextromethorphan       None  None   \n",
       "125843    10.0 2010-09-20            3    Desvenlafaxine       None  None   \n",
       "\n",
       "           3     4  \n",
       "76409   None  None  \n",
       "24114   None  None  \n",
       "17529   None  None  \n",
       "66795   None  None  \n",
       "33015   None  None  \n",
       "26453   None  None  \n",
       "160162  None  None  \n",
       "18060   None  None  \n",
       "19746   None  None  \n",
       "125843  None  None  "
      ]
     },
     "execution_count": 73,
     "metadata": {},
     "output_type": "execute_result"
    }
   ],
   "source": [
    "drugs[(drugs.review.apply(lambda x : x.split(\" \")).apply(len) <= 4)].sample(10)"
   ]
  },
  {
   "cell_type": "markdown",
   "metadata": {},
   "source": [
    "Ethinyl Estradiol is the most reviewed drug. The top four drugs are birth control related.\n",
    "\n",
    "We can do the same kind of analysis with the conditions. First to remove garbage conditions that have \"\\</span>\", which was most likely came from web scraping."
   ]
  },
  {
   "cell_type": "code",
   "execution_count": 12,
   "metadata": {},
   "outputs": [
    {
     "data": {
      "text/plain": [
       "<matplotlib.axes._subplots.AxesSubplot at 0x7fc07b3c8210>"
      ]
     },
     "execution_count": 12,
     "metadata": {},
     "output_type": "execute_result"
    },
    {
     "data": {
      "image/png": "[encoded data removed]",
      "text/plain": [
       "<Figure size 1440x360 with 1 Axes>"
      ]
     },
     "metadata": {
      "needs_background": "light"
     },
     "output_type": "display_data"
    }
   ],
   "source": [
    "drugs = drugs.iloc[[idx for idx, i in enumerate(drugs.condition) if \"</span>\" not in i]]\n",
    "drugs[\"review\"] = list(map(lambda x : x.replace(\"&#039;\", \"\").replace(\"&quot\",\"\"), drugs.review))\n",
    "drugs.groupby(\"condition\").count().sort_values(by=\"review\", ascending=False)[:20].plot(kind=\"bar\", y=\"review\", figsize=(20,5))"
   ]
  },
  {
   "cell_type": "markdown",
   "metadata": {},
   "source": [
    "Again, we notice that most of the reviews pertain to birth control.\n",
    "\n",
    "Now looking at the distribution of ratings and usefulness counts."
   ]
  },
  {
   "cell_type": "code",
   "execution_count": 13,
   "metadata": {
    "colab": {
     "base_uri": "https://localhost:8080/",
     "height": 279
    },
    "colab_type": "code",
    "id": "Q3qiXsdDeVlt",
    "outputId": "cd7eac9d-a733-46d4-c4de-37445b9f44f9"
   },
   "outputs": [
    {
     "data": {
      "image/png": "[encoded data removed]",
      "text/plain": [
       "<Figure size 432x288 with 1 Axes>"
      ]
     },
     "metadata": {
      "needs_background": "light"
     },
     "output_type": "display_data"
    }
   ],
   "source": [
    "sns.countplot(drugs[\"rating\"]);"
   ]
  },
  {
   "cell_type": "code",
   "execution_count": 14,
   "metadata": {
    "colab": {
     "base_uri": "https://localhost:8080/",
     "height": 296
    },
    "colab_type": "code",
    "id": "4E8_ZNlMeVlx",
    "outputId": "a490ba97-ccb8-4fe8-e3b6-32a12593f324"
   },
   "outputs": [
    {
     "data": {
      "text/plain": [
       "<matplotlib.axes._subplots.AxesSubplot at 0x7fc07ac42390>"
      ]
     },
     "execution_count": 14,
     "metadata": {},
     "output_type": "execute_result"
    },
    {
     "data": {
      "image/png": "[encoded data removed]",
      "text/plain": [
       "<Figure size 432x288 with 1 Axes>"
      ]
     },
     "metadata": {
      "needs_background": "light"
     },
     "output_type": "display_data"
    }
   ],
   "source": [
    "sns.distplot(drugs[drugs[\"usefulCount\"] < 200].usefulCount, bins=100, kde=True)"
   ]
  },
  {
   "cell_type": "markdown",
   "metadata": {},
   "source": [
    "There are a few reviews with usefulness counts close to a thousand. However, most reviews have a much lesser amount of useful counts. Using a maximum of 200 allows for a better view of the distribution."
   ]
  },
  {
   "cell_type": "code",
   "execution_count": 15,
   "metadata": {
    "colab": {
     "base_uri": "https://localhost:8080/",
     "height": 331
    },
    "colab_type": "code",
    "id": "UlRBqbyxeVlz",
    "outputId": "838065f4-cf7b-42d1-a234-48be4503a5ea"
   },
   "outputs": [
    {
     "data": {
      "image/png": "[encoded data removed]",
      "text/plain": [
       "<Figure size 2160x360 with 1 Axes>"
      ]
     },
     "metadata": {
      "needs_background": "light"
     },
     "output_type": "display_data"
    }
   ],
   "source": [
    "# Plot the number of reveiews in each month\n",
    "drugs.groupby([drugs.date.dt.year, drugs.date.dt.month]).count().plot(kind=\"bar\", y=\"review\", figsize=(30,5));"
   ]
  },
  {
   "cell_type": "markdown",
   "metadata": {
    "colab": {},
    "colab_type": "code",
    "id": "0soFXthyeVl3"
   },
   "source": [
    "The number of reviews was farily consistent at about 1000 reviews per month. The number increased starting the beginning of 2015 to around 3000 until 2017, when it started to decrease.\n",
    "\n",
    "Let's see how the usefulCounts correlated with the condition."
   ]
  },
  {
   "cell_type": "code",
   "execution_count": 16,
   "metadata": {
    "colab": {
     "base_uri": "https://localhost:8080/",
     "height": 296
    },
    "colab_type": "code",
    "id": "iPuAdUpzeVl_",
    "outputId": "64d4a90d-3716-4d9b-a095-e78a828a3715"
   },
   "outputs": [
    {
     "data": {
      "text/plain": [
       "<matplotlib.axes._subplots.AxesSubplot at 0x7fc07b60dc10>"
      ]
     },
     "execution_count": 16,
     "metadata": {},
     "output_type": "execute_result"
    },
    {
     "data": {
      "image/png": "[encoded data removed]",
      "text/plain": [
       "<Figure size 1440x360 with 1 Axes>"
      ]
     },
     "metadata": {
      "needs_background": "light"
     },
     "output_type": "display_data"
    }
   ],
   "source": [
    "drugs.groupby(\"condition\").sum().sort_values(by=\"usefulCount\", ascending=False)[:20].plot(kind=\"bar\", y=\"usefulCount\", figsize=(20,5))"
   ]
  },
  {
   "cell_type": "markdown",
   "metadata": {},
   "source": [
    "Looks like in this case, birth control reviews was not the overall top voted."
   ]
  },
  {
   "cell_type": "markdown",
   "metadata": {
    "colab_type": "text",
    "id": "HJtG1c2teVmD"
   },
   "source": [
    "Here's what we know:\n",
    "\n",
    "1. There are few missing conditions, however, this number is less than 1% of the entire data.\n",
    "2. Ethinyl Estradiol and Levonorgestrel were the two most reviewed drugs. The top 4 reviewed drugs are types of birth control medicines.\n",
    "3. Likewise, birth control was the most often condition of the reviews. (More than 2x that of the second most often condition)\n",
    "4. Most ratings were either 1 or 8-10. Not many neutral ratings. Probably becuase people give reviews if a product performed outside of their expectation (positive or negative).\n",
    "5. Usefulness counts have a ?log-normal? ?chi-squared? distribution.\n",
    "6. The number of reviews was farily consistent at about 1000 reviews per month. The number increased starting the beginning of 2015 to around 3000 until 2017, when it started to decrease.\n",
    "7. Birth control reviews was not the overall top voted."
   ]
  },
  {
   "cell_type": "code",
   "execution_count": null,
   "metadata": {},
   "outputs": [],
   "source": []
  }
 ],
 "metadata": {
  "environment": {
   "name": "pytorch-gpu.1-4.m50",
   "type": "gcloud",
   "uri": "gcr.io/deeplearning-platform-release/pytorch-gpu.1-4:m50"
  },
  "kernelspec": {
   "display_name": "Python 3",
   "language": "python",
   "name": "python3"
  },
  "language_info": {
   "codemirror_mode": {
    "name": "ipython",
    "version": 3
   },
   "file_extension": ".py",
   "mimetype": "text/x-python",
   "name": "python",
   "nbconvert_exporter": "python",
   "pygments_lexer": "ipython3",
   "version": "3.7.6"
  }
 },
 "nbformat": 4,
 "nbformat_minor": 4
}
