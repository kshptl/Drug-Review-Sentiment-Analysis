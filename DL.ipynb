{
  "nbformat": 4,
  "nbformat_minor": 0,
  "metadata": {
    "environment": {
      "name": "pytorch-gpu.1-4.m50",
      "type": "gcloud",
      "uri": "gcr.io/deeplearning-platform-release/pytorch-gpu.1-4:m50"
    },
    "kernelspec": {
      "display_name": "Python 3",
      "language": "python",
      "name": "python3"
    },
    "language_info": {
      "codemirror_mode": {
        "name": "ipython",
        "version": 3
      },
      "file_extension": ".py",
      "mimetype": "text/x-python",
      "name": "python",
      "nbconvert_exporter": "python",
      "pygments_lexer": "ipython3",
      "version": "3.7.6"
    },
    "colab": {
      "name": "DL.ipynb",
      "provenance": [],
      "toc_visible": true
    },
    "accelerator": "GPU"
  },
  "cells": [
    {
      "cell_type": "markdown",
      "metadata": {
        "colab_type": "text",
        "id": "4nB4biHTeVmE"
      },
      "source": [
        "# Deep Learning classification using the fast.ai library built on top of PyTorch"
      ]
    },
    {
      "cell_type": "code",
      "metadata": {
        "colab_type": "code",
        "id": "4dvxbsnWeVmE",
        "colab": {
          "base_uri": "https://localhost:8080/",
          "height": 306
        },
        "outputId": "010c967f-fc79-4666-b667-57a311028e75"
      },
      "source": [
        "from fastai.text import *\n",
        "from fastai.metrics import *\n",
        "from fastai.callbacks.hooks import *\n",
        "from fastai.utils.mem import *\n",
        "path = \"/root/\"\n",
        "torch.cuda.empty_cache()\n",
        "!/opt/bin/nvidia-smib"
      ],
      "execution_count": 3,
      "outputs": [
        {
          "output_type": "stream",
          "text": [
            "Tue Aug 11 20:34:59 2020       \n",
            "+-----------------------------------------------------------------------------+\n",
            "| NVIDIA-SMI 418.67       Driver Version: 418.67       CUDA Version: 10.1     |\n",
            "|-------------------------------+----------------------+----------------------+\n",
            "| GPU  Name        Persistence-M| Bus-Id        Disp.A | Volatile Uncorr. ECC |\n",
            "| Fan  Temp  Perf  Pwr:Usage/Cap|         Memory-Usage | GPU-Util  Compute M. |\n",
            "|===============================+======================+======================|\n",
            "|   0  Tesla K80           Off  | 00000000:00:04.0 Off |                    0 |\n",
            "| N/A   33C    P8    26W / 149W |     11MiB / 11441MiB |      0%      Default |\n",
            "+-------------------------------+----------------------+----------------------+\n",
            "                                                                               \n",
            "+-----------------------------------------------------------------------------+\n",
            "| Processes:                                                       GPU Memory |\n",
            "|  GPU       PID   Type   Process name                             Usage      |\n",
            "|=============================================================================|\n",
            "|  No running processes found                                                 |\n",
            "+-----------------------------------------------------------------------------+\n"
          ],
          "name": "stdout"
        }
      ]
    },
    {
      "cell_type": "markdown",
      "metadata": {
        "id": "TyQhiJPJQ5am",
        "colab_type": "text"
      },
      "source": [
        "There will be two models to train, one for learning the language, and the second for classifying the sentiment.\n",
        "\n",
        "First we setup both the data bunches by preprocessing the data, which includes tokenization, lemmatization/stemming, removing stop words, and converting tokens to numbers.\n",
        "\n",
        "We also setup the databunch for the sentiment classifcation model, which includes spliting the data into training and validation."
      ]
    },
    {
      "cell_type": "code",
      "metadata": {
        "colab_type": "code",
        "id": "Eu43ToTreVmJ",
        "colab": {
          "base_uri": "https://localhost:8080/",
          "height": 17
        },
        "outputId": "f6c2f0fd-2edc-431e-cf65-5b1eb05d9870"
      },
      "source": [
        "# Import data. There are two clases of data, one for determining the language model (how to read the words), and the other for classification (into ratings 1-10)\n",
        "\n",
        "data_lm = TextLMDataBunch.from_csv(path, \"train.tsv\", delimiter=\"\\t\", text_cols=\"review\", label_cols=\"rating\", bs=96)\n",
        "data_clas = TextClasDataBunch.from_csv(path, \"train.tsv\", delimiter=\"\\t\", text_cols=\"review\", label_cols=\"rating\", vocab=data_lm.train_ds.vocab, bs=96)   "
      ],
      "execution_count": 5,
      "outputs": [
        {
          "output_type": "display_data",
          "data": {
            "text/html": [
              ""
            ],
            "text/plain": [
              "<IPython.core.display.HTML object>"
            ]
          },
          "metadata": {
            "tags": []
          }
        },
        {
          "output_type": "display_data",
          "data": {
            "text/html": [
              ""
            ],
            "text/plain": [
              "<IPython.core.display.HTML object>"
            ]
          },
          "metadata": {
            "tags": []
          }
        },
        {
          "output_type": "display_data",
          "data": {
            "text/html": [
              ""
            ],
            "text/plain": [
              "<IPython.core.display.HTML object>"
            ]
          },
          "metadata": {
            "tags": []
          }
        },
        {
          "output_type": "display_data",
          "data": {
            "text/html": [
              ""
            ],
            "text/plain": [
              "<IPython.core.display.HTML object>"
            ]
          },
          "metadata": {
            "tags": []
          }
        }
      ]
    },
    {
      "cell_type": "code",
      "metadata": {
        "colab_type": "code",
        "id": "yvNTJV_FeVmO",
        "colab": {}
      },
      "source": [
        "# Save databunch\n",
        "data_lm.save('data_lm_export.pkl')\n",
        "data_clas.save('data_clas_export.pkl')"
      ],
      "execution_count": 6,
      "outputs": []
    },
    {
      "cell_type": "code",
      "metadata": {
        "colab_type": "code",
        "id": "bBWr2ioDeVmS",
        "colab": {}
      },
      "source": [
        "# Load Databunch\n",
        "\n",
        "bs = 48\n",
        "data_lm = load_data(path, 'data_lm_export.pkl', bs=bs)\n",
        "data_clas = load_data(path, 'data_clas_export.pkl', bs=bs)"
      ],
      "execution_count": 8,
      "outputs": []
    },
    {
      "cell_type": "markdown",
      "metadata": {
        "id": "7tqD68IkTic5",
        "colab_type": "text"
      },
      "source": [
        "Here we define the lanugage learning model. For this NLP"
      ]
    },
    {
      "cell_type": "code",
      "metadata": {
        "colab_type": "code",
        "id": "ViIxHDaVeVmU",
        "colab": {
          "base_uri": "https://localhost:8080/",
          "height": 34
        },
        "outputId": "9343cee3-6509-471e-fc8b-3bc0817370a9"
      },
      "source": [
        "# Setup language model learner using the AWD LSTM model.\n",
        "\n",
        "learn = language_model_learner(data_lm, AWD_LSTM, drop_mult=.05)"
      ],
      "execution_count": 9,
      "outputs": [
        {
          "output_type": "stream",
          "text": [
            "Downloading https://s3.amazonaws.com/fast-ai-modelzoo/wt103-fwd.tgz\n"
          ],
          "name": "stdout"
        },
        {
          "output_type": "display_data",
          "data": {
            "text/html": [
              ""
            ],
            "text/plain": [
              "<IPython.core.display.HTML object>"
            ]
          },
          "metadata": {
            "tags": []
          }
        }
      ]
    },
    {
      "cell_type": "code",
      "metadata": {
        "colab_type": "code",
        "id": "STjqoerpgtT5",
        "colab": {
          "base_uri": "https://localhost:8080/",
          "height": 95
        },
        "outputId": "95ed381f-2d15-482e-c3e9-d91a5672b7d4"
      },
      "source": [
        "#fit the model to the data using the one cycle policy\n",
        "\n",
        "learn.fit_one_cycle(1, 1e-3)"
      ],
      "execution_count": null,
      "outputs": [
        {
          "output_type": "display_data",
          "data": {
            "text/html": [
              "\n",
              "    <div>\n",
              "        <style>\n",
              "            /* Turns off some styling */\n",
              "            progress {\n",
              "                /* gets rid of default border in Firefox and Opera. */\n",
              "                border: none;\n",
              "                /* Needs to be in here for Safari polyfill so background images work as expected. */\n",
              "                background-size: auto;\n",
              "            }\n",
              "            .progress-bar-interrupted, .progress-bar-interrupted::-webkit-progress-bar {\n",
              "                background: #F44336;\n",
              "            }\n",
              "        </style>\n",
              "      <progress value='0' class='' max='1' style='width:300px; height:20px; vertical-align: middle;'></progress>\n",
              "      0.00% [0/1 00:00<00:00]\n",
              "    </div>\n",
              "    \n",
              "<table border=\"1\" class=\"dataframe\">\n",
              "  <thead>\n",
              "    <tr style=\"text-align: left;\">\n",
              "      <th>epoch</th>\n",
              "      <th>train_loss</th>\n",
              "      <th>valid_loss</th>\n",
              "      <th>accuracy</th>\n",
              "      <th>time</th>\n",
              "    </tr>\n",
              "  </thead>\n",
              "  <tbody>\n",
              "  </tbody>\n",
              "</table><p>\n",
              "\n",
              "    <div>\n",
              "        <style>\n",
              "            /* Turns off some styling */\n",
              "            progress {\n",
              "                /* gets rid of default border in Firefox and Opera. */\n",
              "                border: none;\n",
              "                /* Needs to be in here for Safari polyfill so background images work as expected. */\n",
              "                background-size: auto;\n",
              "            }\n",
              "            .progress-bar-interrupted, .progress-bar-interrupted::-webkit-progress-bar {\n",
              "                background: #F44336;\n",
              "            }\n",
              "        </style>\n",
              "      <progress value='1347' class='' max='4074' style='width:300px; height:20px; vertical-align: middle;'></progress>\n",
              "      33.06% [1347/4074 10:27<21:11 3.7185]\n",
              "    </div>\n",
              "    "
            ],
            "text/plain": [
              "<IPython.core.display.HTML object>"
            ]
          },
          "metadata": {
            "tags": []
          }
        }
      ]
    },
    {
      "cell_type": "code",
      "metadata": {
        "colab_type": "code",
        "id": "iCXuPaRtoDci",
        "colab": {}
      },
      "source": [
        "# find the losses at different learning rates and plot the curve\n",
        "\n",
        "learn.lr_find();\n",
        "learn.recorder.plot()"
      ],
      "execution_count": null,
      "outputs": []
    },
    {
      "cell_type": "code",
      "metadata": {
        "colab_type": "code",
        "id": "Q_aWO_ofsAH9",
        "colab": {}
      },
      "source": [
        ""
      ],
      "execution_count": null,
      "outputs": []
    },
    {
      "cell_type": "code",
      "metadata": {
        "colab_type": "code",
        "id": "zB6rSE9ssC8M",
        "colab": {}
      },
      "source": [
        "# example prediction using the fitted language model\n",
        "\n",
        "learn.predict(\"it could have been\", n_words=10)"
      ],
      "execution_count": null,
      "outputs": []
    },
    {
      "cell_type": "code",
      "metadata": {
        "colab_type": "code",
        "id": "UWsm8EkqwlaA",
        "colab": {}
      },
      "source": [
        "# save the trained weights of the model\n",
        "\n",
        "learn.save(\"fit_head\")\n",
        "learn.load(\"fit_head\");"
      ],
      "execution_count": null,
      "outputs": []
    },
    {
      "cell_type": "code",
      "metadata": {
        "colab_type": "code",
        "id": "j0qfYCh1w4I2",
        "colab": {}
      },
      "source": [
        "# unfreeze the entire model and train again\n",
        "learn.unfreeze()\n",
        "learn.fit_one_cycle(2, max_lr=slice(1e-2, 1e-1))"
      ],
      "execution_count": null,
      "outputs": []
    },
    {
      "cell_type": "code",
      "metadata": {
        "colab_type": "code",
        "id": "Q9aD1TmbxIoy",
        "colab": {}
      },
      "source": [
        "# save the encoder from the fitted language model\n",
        "learn.save_encoder(\"ft_enc\")"
      ],
      "execution_count": null,
      "outputs": []
    },
    {
      "cell_type": "code",
      "metadata": {
        "colab_type": "code",
        "id": "DzDNuPYp0ASf",
        "colab": {}
      },
      "source": [
        "# Setup the classification learning model and load the language model encoder\n",
        "\n",
        "learn = text_classifier_learner(data_clas, AWD_LSTM, drop_mult=0.5, metrics = [accuracy, rmse])\n",
        "learn.load_encoder(\"ft_enc\");"
      ],
      "execution_count": null,
      "outputs": []
    },
    {
      "cell_type": "code",
      "metadata": {
        "colab_type": "code",
        "id": "TGQ0K2iS0Jc4",
        "colab": {}
      },
      "source": [
        "# Preview the classification batch. It contains one column for the tokenized reviews and another column for the rating labels\n",
        "\n",
        "data_clas.show_batch()"
      ],
      "execution_count": null,
      "outputs": []
    },
    {
      "cell_type": "code",
      "metadata": {
        "colab_type": "code",
        "id": "aYJJwDXr3bKW",
        "colab": {}
      },
      "source": [
        "# Train model using the fit one cycle policy\n",
        "\n",
        "learn.fit_one_cycle(2)"
      ],
      "execution_count": null,
      "outputs": []
    },
    {
      "cell_type": "code",
      "metadata": {
        "colab_type": "code",
        "id": "Skbmqj1E3gVb",
        "colab": {}
      },
      "source": [
        "# save these initally trained weight\n",
        "\n",
        "learn.save(\"first_clas\")\n",
        "learn.load(\"first_clas\");"
      ],
      "execution_count": null,
      "outputs": []
    },
    {
      "cell_type": "code",
      "metadata": {
        "colab_type": "code",
        "id": "m9CWwGrL3mlZ",
        "colab": {}
      },
      "source": [
        "# freeeze the model excep the last two layers for retraining\n",
        "\n",
        "learn.freeze_to(-2)"
      ],
      "execution_count": null,
      "outputs": []
    },
    {
      "cell_type": "code",
      "metadata": {
        "colab_type": "code",
        "id": "ImYsFMbP3psq",
        "colab": {}
      },
      "source": [
        "# Plot the learning rate \n",
        "\n",
        "learn.lr_find()\n",
        "learn.recorder.plot()"
      ],
      "execution_count": null,
      "outputs": []
    },
    {
      "cell_type": "code",
      "metadata": {
        "colab_type": "code",
        "id": "R1twjwxL3zwE",
        "colab": {}
      },
      "source": [
        "# Fit partially unfrozen model\n",
        "\n",
        "learn.fit_one_cycle(1, slice(1e-4, 1e-3))"
      ],
      "execution_count": null,
      "outputs": []
    },
    {
      "cell_type": "code",
      "metadata": {
        "colab_type": "code",
        "id": "CXNDx3gDBdXE",
        "colab": {}
      },
      "source": [
        "# fit fully unfrozen model\n",
        "\n",
        "learn.unfreeze()\n",
        "learn.fit_one_cycle(3, slice(1e-4, 1e-3))"
      ],
      "execution_count": null,
      "outputs": []
    },
    {
      "cell_type": "code",
      "metadata": {
        "colab_type": "code",
        "id": "OzyTfC_PCkRy",
        "colab": {}
      },
      "source": [
        "# Save the final classification weights.\n",
        "\n",
        "learn.save(\"final_clas\")\n",
        "learn.load(\"final_clas\");"
      ],
      "execution_count": null,
      "outputs": []
    }
  ]
}