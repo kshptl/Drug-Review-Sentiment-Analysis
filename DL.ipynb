{
 "cells": [
  {
   "cell_type": "markdown",
   "metadata": {
    "colab_type": "text",
    "id": "4nB4biHTeVmE"
   },
   "source": [
    "# Deep Learning classification using the fast.ai library built on top of PyTorch"
   ]
  },
  {
   "cell_type": "code",
   "execution_count": null,
   "metadata": {
    "colab": {
     "base_uri": "https://localhost:8080/",
     "height": 306
    },
    "colab_type": "code",
    "id": "4dvxbsnWeVmE",
    "outputId": "e655bb4c-1657-466e-c06b-7852429a4551"
   },
   "outputs": [],
   "source": [
    "from fastai.text import *\n",
    "from fastai.metrics import *\n",
    "from fastai.callbacks.hooks import *\n",
    "from fastai.utils.mem import *\n",
    "path = \"/root/\"\n",
    "torch.cuda.empty_cache()\n",
    "!/opt/bin/nvidia-smi"
   ]
  },
  {
   "cell_type": "code",
   "execution_count": null,
   "metadata": {
    "colab": {
     "base_uri": "https://localhost:8080/",
     "height": 17
    },
    "colab_type": "code",
    "id": "Eu43ToTreVmJ",
    "outputId": "45b3778c-91aa-4935-e197-be95cdb159d3"
   },
   "outputs": [],
   "source": [
    "# Import data. There are two clases of data, one for determining the language model (how to read the words), and the other for classification (into ratings 1-10)\n",
    "\n",
    "data_lm = TextLMDataBunch.from_csv(path, \"train.tsv\", delimiter=\"\\t\", text_cols=\"review\", label_cols=\"rating\", bs=96)\n",
    "data_clas = TextClasDataBunch.from_csv(path, \"train.tsv\", delimiter=\"\\t\", text_cols=\"review\", label_cols=\"rating\", vocab=data_lm.train_ds.vocab, bs=96)   "
   ]
  },
  {
   "cell_type": "code",
   "execution_count": null,
   "metadata": {
    "colab": {},
    "colab_type": "code",
    "id": "yvNTJV_FeVmO"
   },
   "outputs": [],
   "source": [
    "# Save databunch\n",
    "data_lm.save('data_lm_export.pkl')\n",
    "data_clas.save('data_clas_export.pkl')"
   ]
  },
  {
   "cell_type": "code",
   "execution_count": null,
   "metadata": {
    "colab": {},
    "colab_type": "code",
    "id": "bBWr2ioDeVmS"
   },
   "outputs": [],
   "source": [
    "# Load Databunch\n",
    "\n",
    "bs = 48\n",
    "data_lm = load_data(path, 'data_lm_export.pkl', bs=bs)\n",
    "data_clas = load_data(path, 'data_clas_export.pkl', bs=bs)"
   ]
  },
  {
   "cell_type": "code",
   "execution_count": null,
   "metadata": {
    "colab": {
     "base_uri": "https://localhost:8080/",
     "height": 34
    },
    "colab_type": "code",
    "id": "ViIxHDaVeVmU",
    "outputId": "c7d63794-4749-4491-82af-ac593e82c821"
   },
   "outputs": [],
   "source": [
    "# Setup language model learner using the AWD LSTM model.\n",
    "\n",
    "learn = language_model_learner(data_lm, AWD_LSTM, drop_mult=.05)"
   ]
  },
  {
   "cell_type": "code",
   "execution_count": null,
   "metadata": {
    "colab": {
     "base_uri": "https://localhost:8080/",
     "height": 95
    },
    "colab_type": "code",
    "id": "STjqoerpgtT5",
    "outputId": "be436ff6-2332-41aa-a375-6cee655cca31"
   },
   "outputs": [],
   "source": [
    "#fit the model to the data using the one cycle policy\n",
    "\n",
    "learn.fit_one_cycle(1, 1e-3)"
   ]
  },
  {
   "cell_type": "code",
   "execution_count": null,
   "metadata": {
    "colab": {
     "base_uri": "https://localhost:8080/",
     "height": 112
    },
    "colab_type": "code",
    "id": "iCXuPaRtoDci",
    "outputId": "3f200a03-efec-4d19-f553-4587ef36112e"
   },
   "outputs": [],
   "source": [
    "# find the losses at different learning rates and plot the curve\n",
    "\n",
    "learn.lr_find();\n",
    "learn.recorder.plot()"
   ]
  },
  {
   "cell_type": "code",
   "execution_count": null,
   "metadata": {
    "colab": {
     "base_uri": "https://localhost:8080/",
     "height": 279
    },
    "colab_type": "code",
    "id": "Q_aWO_ofsAH9",
    "outputId": "944b3e8d-3020-462f-fc18-4793385b457f"
   },
   "outputs": [],
   "source": []
  },
  {
   "cell_type": "code",
   "execution_count": null,
   "metadata": {
    "colab": {
     "base_uri": "https://localhost:8080/",
     "height": 35
    },
    "colab_type": "code",
    "id": "zB6rSE9ssC8M",
    "outputId": "e981aecd-afda-4cf0-ac89-8ea70e5d3139"
   },
   "outputs": [],
   "source": [
    "# example prediction using the fitted language model\n",
    "\n",
    "learn.predict(\"it could have been\", n_words=10)"
   ]
  },
  {
   "cell_type": "code",
   "execution_count": null,
   "metadata": {
    "colab": {},
    "colab_type": "code",
    "id": "UWsm8EkqwlaA"
   },
   "outputs": [],
   "source": [
    "# save the trained weights of the model\n",
    "\n",
    "learn.save(\"fit_head\")\n",
    "learn.load(\"fit_head\");"
   ]
  },
  {
   "cell_type": "code",
   "execution_count": null,
   "metadata": {
    "colab": {},
    "colab_type": "code",
    "id": "j0qfYCh1w4I2"
   },
   "outputs": [],
   "source": [
    "# unfreeze the entire model and train again\n",
    "learn.unfreeze()\n",
    "learn.fit_one_cycle(2, max_lr=slice(1e-2, 1e-1))"
   ]
  },
  {
   "cell_type": "code",
   "execution_count": null,
   "metadata": {
    "colab": {},
    "colab_type": "code",
    "id": "Q9aD1TmbxIoy"
   },
   "outputs": [],
   "source": [
    "# save the encoder from the fitted language model\n",
    "learn.save_encoder(\"ft_enc\")"
   ]
  },
  {
   "cell_type": "code",
   "execution_count": null,
   "metadata": {
    "colab": {
     "base_uri": "https://localhost:8080/",
     "height": 357
    },
    "colab_type": "code",
    "id": "DzDNuPYp0ASf",
    "outputId": "638411b9-79d6-4795-9c4e-4e12e22bc60e"
   },
   "outputs": [],
   "source": [
    "# Setup the classification learning model and load the language model encoder\n",
    "\n",
    "learn = text_classifier_learner(data_clas, AWD_LSTM, drop_mult=0.5, metrics = [accuracy, rmse])\n",
    "learn.load_encoder(\"ft_enc\");"
   ]
  },
  {
   "cell_type": "code",
   "execution_count": null,
   "metadata": {
    "colab": {
     "base_uri": "https://localhost:8080/",
     "height": 289
    },
    "colab_type": "code",
    "id": "TGQ0K2iS0Jc4",
    "outputId": "c0810af8-a877-4a00-de24-a9ed645752f5"
   },
   "outputs": [],
   "source": [
    "# Preview the classification batch. It contains one column for the tokenized reviews and another column for the rating labels\n",
    "\n",
    "data_clas.show_batch()"
   ]
  },
  {
   "cell_type": "code",
   "execution_count": null,
   "metadata": {
    "colab": {
     "base_uri": "https://localhost:8080/",
     "height": 188
    },
    "colab_type": "code",
    "id": "aYJJwDXr3bKW",
    "outputId": "6cb97c10-77e3-4f18-8960-f5f7479ac2a7"
   },
   "outputs": [],
   "source": [
    "# Train model using the fit one cycle policy\n",
    "\n",
    "learn.fit_one_cycle(2)"
   ]
  },
  {
   "cell_type": "code",
   "execution_count": null,
   "metadata": {
    "colab": {},
    "colab_type": "code",
    "id": "Skbmqj1E3gVb"
   },
   "outputs": [],
   "source": [
    "# save these initally trained weight\n",
    "\n",
    "learn.save(\"first_clas\")\n",
    "learn.load(\"first_clas\");"
   ]
  },
  {
   "cell_type": "code",
   "execution_count": null,
   "metadata": {
    "colab": {},
    "colab_type": "code",
    "id": "m9CWwGrL3mlZ"
   },
   "outputs": [],
   "source": [
    "# freeeze the model excep the last two layers for retraining\n",
    "\n",
    "learn.freeze_to(-2)"
   ]
  },
  {
   "cell_type": "code",
   "execution_count": null,
   "metadata": {
    "colab": {},
    "colab_type": "code",
    "id": "ImYsFMbP3psq"
   },
   "outputs": [],
   "source": [
    "# Plot the learning rate \n",
    "\n",
    "learn.lr_find()\n",
    "learn.recorder.plot()"
   ]
  },
  {
   "cell_type": "code",
   "execution_count": null,
   "metadata": {
    "colab": {},
    "colab_type": "code",
    "id": "R1twjwxL3zwE"
   },
   "outputs": [],
   "source": [
    "# Fit partially unfrozen model\n",
    "\n",
    "learn.fit_one_cycle(1, slice(1e-4, 1e-3))"
   ]
  },
  {
   "cell_type": "code",
   "execution_count": null,
   "metadata": {
    "colab": {},
    "colab_type": "code",
    "id": "CXNDx3gDBdXE"
   },
   "outputs": [],
   "source": [
    "# fit fully unfrozen model\n",
    "\n",
    "learn.unfreeze()\n",
    "learn.fit_one_cycle(3, slice(1e-4, 1e-3))"
   ]
  },
  {
   "cell_type": "code",
   "execution_count": null,
   "metadata": {
    "colab": {},
    "colab_type": "code",
    "id": "OzyTfC_PCkRy"
   },
   "outputs": [],
   "source": [
    "# Save the final classification weights.\n",
    "\n",
    "learn.save(\"final_clas\")\n",
    "learn.load(\"final_clas\");"
   ]
  }
 ],
 "metadata": {
  "environment": {
   "name": "pytorch-gpu.1-4.m50",
   "type": "gcloud",
   "uri": "gcr.io/deeplearning-platform-release/pytorch-gpu.1-4:m50"
  },
  "kernelspec": {
   "display_name": "Python 3",
   "language": "python",
   "name": "python3"
  },
  "language_info": {
   "codemirror_mode": {
    "name": "ipython",
    "version": 3
   },
   "file_extension": ".py",
   "mimetype": "text/x-python",
   "name": "python",
   "nbconvert_exporter": "python",
   "pygments_lexer": "ipython3",
   "version": "3.7.6"
  }
 },
 "nbformat": 4,
 "nbformat_minor": 4
}
